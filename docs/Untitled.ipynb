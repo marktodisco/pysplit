{
 "cells": [
  {
   "cell_type": "code",
   "execution_count": 5,
   "metadata": {},
   "outputs": [
    {
     "name": "stdout",
     "output_type": "stream",
     "text": [
      "Package                       Version\n",
      "----------------------------- -------------------\n",
      "alabaster                     0.7.12\n",
      "appdirs                       1.4.4\n",
      "astroid                       2.4.2\n",
      "atomicwrites                  1.4.0\n",
      "attrs                         19.3.0\n",
      "autopep8                      1.5.3\n",
      "Babel                         2.8.0\n",
      "backcall                      0.2.0\n",
      "bcrypt                        3.1.7\n",
      "bleach                        3.1.5\n",
      "certifi                       2020.6.20\n",
      "cffi                          1.14.0\n",
      "chardet                       3.0.4\n",
      "cloudpickle                   1.4.1\n",
      "colorama                      0.4.3\n",
      "cozmo                         1.4.10\n",
      "cozmoclad                     3.4.0\n",
      "cryptography                  2.9.2\n",
      "decorator                     4.4.2\n",
      "defusedxml                    0.6.0\n",
      "diff-match-patch              20181111\n",
      "distlib                       0.3.0\n",
      "docutils                      0.16\n",
      "entrypoints                   0.3\n",
      "flake8                        3.8.3\n",
      "helpdev                       0.7.1\n",
      "idna                          2.9\n",
      "imagesize                     1.2.0\n",
      "importlib-metadata            1.7.0\n",
      "intervaltree                  3.0.2\n",
      "ipykernel                     5.3.0\n",
      "ipython                       7.16.1\n",
      "ipython-genutils              0.2.0\n",
      "ipywidgets                    7.5.1\n",
      "isort                         4.3.21\n",
      "jedi                          0.15.2\n",
      "Jinja2                        2.11.2\n",
      "jsonschema                    3.2.0\n",
      "jupyter                       1.0.0\n",
      "jupyter-client                6.1.3\n",
      "jupyter-console               6.1.0\n",
      "jupyter-core                  4.6.3\n",
      "keyring                       21.2.1\n",
      "lazy-object-proxy             1.4.3\n",
      "MarkupSafe                    1.1.1\n",
      "mccabe                        0.6.1\n",
      "mistune                       0.8.4\n",
      "nbconvert                     5.6.1\n",
      "nbformat                      5.0.7\n",
      "notebook                      6.0.3\n",
      "numpy                         1.19.0\n",
      "numpydoc                      1.0.0\n",
      "packaging                     20.4\n",
      "pandocfilters                 1.4.2\n",
      "paramiko                      2.7.1\n",
      "parso                         0.5.2\n",
      "pathtools                     0.1.2\n",
      "pexpect                       4.8.0\n",
      "pickleshare                   0.7.5\n",
      "Pillow                        7.0.0\n",
      "pip                           20.1.1\n",
      "pluggy                        0.13.1\n",
      "prometheus-client             0.8.0\n",
      "prompt-toolkit                3.0.5\n",
      "psutil                        5.7.0\n",
      "ptyprocess                    0.6.0\n",
      "pycodestyle                   2.6.0\n",
      "pycparser                     2.20\n",
      "pydocstyle                    5.0.2\n",
      "pyflakes                      2.1.1\n",
      "Pygments                      2.6.1\n",
      "pylint                        2.5.3\n",
      "PyNaCl                        1.4.0\n",
      "pyparsing                     2.4.7\n",
      "PyQt5                         5.12.3\n",
      "PyQt5-sip                     12.8.0\n",
      "PyQtWebEngine                 5.12.1\n",
      "pyrsistent                    0.16.0\n",
      "pysplitter                    0.0.2\n",
      "python-dateutil               2.8.1\n",
      "python-jsonrpc-server         0.3.4\n",
      "python-language-server        0.31.10\n",
      "pytz                          2020.1\n",
      "pywin32                       228\n",
      "pywin32-ctypes                0.2.0\n",
      "pywinpty                      0.5.7\n",
      "pyzmq                         19.0.1\n",
      "QDarkStyle                    2.8.1\n",
      "QtAwesome                     0.7.2\n",
      "qtconsole                     4.7.5\n",
      "QtPy                          1.9.0\n",
      "requests                      2.24.0\n",
      "rope                          0.17.0\n",
      "Send2Trash                    1.5.0\n",
      "setuptools                    47.3.1.post20200622\n",
      "six                           1.15.0\n",
      "snowballstemmer               2.0.0\n",
      "sortedcontainers              2.2.2\n",
      "Sphinx                        3.1.1\n",
      "sphinxcontrib-applehelp       1.0.2\n",
      "sphinxcontrib-devhelp         1.0.2\n",
      "sphinxcontrib-htmlhelp        1.0.3\n",
      "sphinxcontrib-jsmath          1.0.1\n",
      "sphinxcontrib-qthelp          1.0.3\n",
      "sphinxcontrib-serializinghtml 1.1.4\n",
      "spyder                        4.1.3\n",
      "spyder-kernels                1.9.1\n",
      "terminado                     0.8.3\n",
      "testpath                      0.4.4\n",
      "toml                          0.10.1\n",
      "tornado                       6.0.4\n",
      "traitlets                     4.3.3\n",
      "typed-ast                     1.4.1\n",
      "urllib3                       1.25.9\n",
      "util                          1.0\n",
      "virtualenv                    20.0.21\n",
      "watchdog                      0.10.3\n",
      "wcwidth                       0.2.5\n",
      "webencodings                  0.5.1\n",
      "wheel                         0.34.2\n",
      "widgetsnbextension            3.5.1\n",
      "wincertstore                  0.2\n",
      "wrapt                         1.12.1\n",
      "yapf                          0.30.0\n",
      "zipp                          3.1.0\n"
     ]
    }
   ],
   "source": [
    "!pip list"
   ]
  },
  {
   "cell_type": "code",
   "execution_count": 7,
   "metadata": {},
   "outputs": [
    {
     "name": "stdout",
     "output_type": "stream",
     "text": [
      "Requirement already satisfied: pysplitter in c:\\users\\markt\\anaconda3\\envs\\pysplitter\\lib\\site-packages (0.0.2)\n",
      "Requirement already satisfied: numpy in c:\\users\\markt\\anaconda3\\envs\\pysplitter\\lib\\site-packages (from pysplitter) (1.19.0)\n"
     ]
    }
   ],
   "source": [
    "!pip install pysplitter"
   ]
  },
  {
   "cell_type": "code",
   "execution_count": 8,
   "metadata": {},
   "outputs": [
    {
     "ename": "ModuleNotFoundError",
     "evalue": "No module named 'pysplitter'",
     "output_type": "error",
     "traceback": [
      "\u001b[1;31m---------------------------------------------------------------------------\u001b[0m",
      "\u001b[1;31mModuleNotFoundError\u001b[0m                       Traceback (most recent call last)",
      "\u001b[1;32m<ipython-input-8-e9e2b28b4d7b>\u001b[0m in \u001b[0;36m<module>\u001b[1;34m\u001b[0m\n\u001b[1;32m----> 1\u001b[1;33m \u001b[1;32mimport\u001b[0m \u001b[0mpysplitter\u001b[0m\u001b[1;33m\u001b[0m\u001b[1;33m\u001b[0m\u001b[0m\n\u001b[0m",
      "\u001b[1;31mModuleNotFoundError\u001b[0m: No module named 'pysplitter'"
     ]
    }
   ],
   "source": [
    "import pysplitter"
   ]
  },
  {
   "cell_type": "code",
   "execution_count": 10,
   "metadata": {},
   "outputs": [
    {
     "ename": "ModuleNotFoundError",
     "evalue": "No module named 'pysplitter'",
     "output_type": "error",
     "traceback": [
      "\u001b[1;31m---------------------------------------------------------------------------\u001b[0m",
      "\u001b[1;31mModuleNotFoundError\u001b[0m                       Traceback (most recent call last)",
      "\u001b[1;32m<ipython-input-10-f23c4ff2e559>\u001b[0m in \u001b[0;36m<module>\u001b[1;34m\u001b[0m\n\u001b[1;32m----> 1\u001b[1;33m \u001b[1;32mfrom\u001b[0m \u001b[0mpysplitter\u001b[0m \u001b[1;32mimport\u001b[0m \u001b[1;33m*\u001b[0m\u001b[1;33m\u001b[0m\u001b[1;33m\u001b[0m\u001b[0m\n\u001b[0m",
      "\u001b[1;31mModuleNotFoundError\u001b[0m: No module named 'pysplitter'"
     ]
    }
   ],
   "source": [
    "from pysplitter import *"
   ]
  },
  {
   "cell_type": "code",
   "execution_count": null,
   "metadata": {},
   "outputs": [],
   "source": []
  }
 ],
 "metadata": {
  "kernelspec": {
   "display_name": "Python 3",
   "language": "python",
   "name": "python3"
  },
  "language_info": {
   "codemirror_mode": {
    "name": "ipython",
    "version": 3
   },
   "file_extension": ".py",
   "mimetype": "text/x-python",
   "name": "python",
   "nbconvert_exporter": "python",
   "pygments_lexer": "ipython3",
   "version": "3.7.7"
  }
 },
 "nbformat": 4,
 "nbformat_minor": 4
}
